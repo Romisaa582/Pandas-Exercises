{
 "cells": [
  {
   "cell_type": "markdown",
   "metadata": {},
   "source": [
    "# Housing Market"
   ]
  },
  {
   "cell_type": "markdown",
   "metadata": {},
   "source": [
    "### Introduction:\n",
    "\n",
    "This time we will create our own dataset with fictional numbers to describe a house market. As we are going to create random data don't try to reason of the numbers.\n",
    "\n",
    "### Step 1. Import the necessary libraries"
   ]
  },
  {
   "cell_type": "code",
   "execution_count": 2,
   "metadata": {
    "collapsed": false
   },
   "outputs": [],
   "source": [
    "import pandas as pd\n",
    "import numpy as np"
   ]
  },
  {
   "cell_type": "markdown",
   "metadata": {},
   "source": [
    "### Step 2. Create 3 differents Series, each of length 100, as follows: \n",
    "1. The first a random number from 1 to 4 \n",
    "2. The second a random number from 1 to 3\n",
    "3. The third a random number from 10,000 to 30,000"
   ]
  },
  {
   "cell_type": "code",
   "execution_count": 3,
   "metadata": {
    "collapsed": false
   },
   "outputs": [
    {
     "name": "stdout",
     "output_type": "stream",
     "text": [
      "0    3\n",
      "1    1\n",
      "2    3\n",
      "3    4\n",
      "4    4\n",
      "dtype: int32\n",
      "0    2\n",
      "1    2\n",
      "2    1\n",
      "3    3\n",
      "4    2\n",
      "dtype: int32\n",
      "0    29656\n",
      "1    26177\n",
      "2    28303\n",
      "3    27034\n",
      "4    14432\n",
      "dtype: int32\n"
     ]
    }
   ],
   "source": [
    " \n",
    "series1 = pd.Series(np.random.randint(1, 5, size=100))\n",
    "series2 = pd.Series(np.random.randint(1, 4, size=100))\n",
    "series3 = pd.Series(np.random.randint(10000, 30001, size=100))\n",
    "print(series1.head())\n",
    "print(series2.head())\n",
    "print(series3.head())\n"
   ]
  },
  {
   "cell_type": "markdown",
   "metadata": {},
   "source": [
    "### Step 3. Let's create a DataFrame by joinning the Series by column"
   ]
  },
  {
   "cell_type": "code",
   "execution_count": 4,
   "metadata": {
    "collapsed": false
   },
   "outputs": [
    {
     "name": "stdout",
     "output_type": "stream",
     "text": [
      "   Random_1_to_4  Random_1_to_3  Random_10000_to_30000\n",
      "0              3              2                  29656\n",
      "1              1              2                  26177\n",
      "2              3              1                  28303\n",
      "3              4              3                  27034\n",
      "4              4              2                  14432\n"
     ]
    }
   ],
   "source": [
    "\n",
    "df = pd.concat([series1, series2, series3], axis=1)\n",
    "df.columns = ['Random_1_to_4', 'Random_1_to_3', 'Random_10000_to_30000']\n",
    "print(df.head())\n"
   ]
  },
  {
   "cell_type": "markdown",
   "metadata": {},
   "source": [
    "### Step 4. Change the name of the columns to bedrs, bathrs, price_sqr_meter"
   ]
  },
  {
   "cell_type": "code",
   "execution_count": 5,
   "metadata": {
    "collapsed": false
   },
   "outputs": [
    {
     "name": "stdout",
     "output_type": "stream",
     "text": [
      "   bedrs  bathrs  price_sqr_meter\n",
      "0      3       2            29656\n",
      "1      1       2            26177\n",
      "2      3       1            28303\n",
      "3      4       3            27034\n",
      "4      4       2            14432\n"
     ]
    }
   ],
   "source": [
    "df.columns = ['bedrs', 'bathrs', 'price_sqr_meter']\n",
    "print(df.head())"
   ]
  },
  {
   "cell_type": "markdown",
   "metadata": {},
   "source": [
    "### Step 5. Create a one column DataFrame with the values of the 3 Series and assign it to 'bigcolumn'"
   ]
  },
  {
   "cell_type": "code",
   "execution_count": 6,
   "metadata": {
    "collapsed": false
   },
   "outputs": [
    {
     "name": "stdout",
     "output_type": "stream",
     "text": [
      "   0\n",
      "0  3\n",
      "1  1\n",
      "2  3\n",
      "3  4\n",
      "4  4\n"
     ]
    }
   ],
   "source": [
    "\n",
    "bigcolumn = pd.DataFrame(pd.concat([series1, series2, series3], axis=0).reset_index(drop=True))\n",
    "\n",
    "print(bigcolumn.head())\n"
   ]
  },
  {
   "cell_type": "markdown",
   "metadata": {},
   "source": [
    "### Step 6. Oops, it seems it is going only until index 99. Is it true?"
   ]
  },
  {
   "cell_type": "code",
   "execution_count": 7,
   "metadata": {
    "collapsed": false
   },
   "outputs": [
    {
     "name": "stdout",
     "output_type": "stream",
     "text": [
      "300\n",
      "RangeIndex(start=0, stop=300, step=1)\n"
     ]
    }
   ],
   "source": [
    "print(len(bigcolumn)) \n",
    "print(bigcolumn.index)"
   ]
  },
  {
   "cell_type": "markdown",
   "metadata": {},
   "source": [
    "### Step 7. Reindex the DataFrame so it goes from 0 to 299"
   ]
  },
  {
   "cell_type": "code",
   "execution_count": 8,
   "metadata": {
    "collapsed": false
   },
   "outputs": [
    {
     "name": "stdout",
     "output_type": "stream",
     "text": [
      "   0\n",
      "0  3\n",
      "1  1\n",
      "2  3\n",
      "3  4\n",
      "4  4\n",
      "         0\n",
      "295  13281\n",
      "296  27907\n",
      "297  17996\n",
      "298  25198\n",
      "299  28700\n"
     ]
    }
   ],
   "source": [
    "\n",
    "bigcolumn = bigcolumn.reset_index(drop=True)\n",
    "\n",
    "print(bigcolumn.head())\n",
    "\n",
    "print(bigcolumn.tail())\n"
   ]
  }
 ],
 "metadata": {
  "kernelspec": {
   "display_name": "base",
   "language": "python",
   "name": "python3"
  },
  "language_info": {
   "codemirror_mode": {
    "name": "ipython",
    "version": 3
   },
   "file_extension": ".py",
   "mimetype": "text/x-python",
   "name": "python",
   "nbconvert_exporter": "python",
   "pygments_lexer": "ipython3",
   "version": "3.11.5"
  }
 },
 "nbformat": 4,
 "nbformat_minor": 0
}
