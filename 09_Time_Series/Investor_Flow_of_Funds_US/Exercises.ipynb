{
 "cells": [
  {
   "cell_type": "markdown",
   "metadata": {},
   "source": [
    "# Investor - Flow of Funds - US"
   ]
  },
  {
   "cell_type": "markdown",
   "metadata": {},
   "source": [
    "### Introduction:\n",
    "\n",
    "Special thanks to: https://github.com/rgrp for sharing the dataset.\n",
    "\n",
    "### Step 1. Import the necessary libraries"
   ]
  },
  {
   "cell_type": "code",
   "execution_count": 8,
   "metadata": {
    "collapsed": false
   },
   "outputs": [],
   "source": [
    "import pandas as pd"
   ]
  },
  {
   "cell_type": "markdown",
   "metadata": {},
   "source": [
    "### Step 2. Import the dataset from this [address](https://raw.githubusercontent.com/datasets/investor-flow-of-funds-us/master/data/weekly.csv). "
   ]
  },
  {
   "cell_type": "markdown",
   "metadata": {},
   "source": [
    "### Step 3. Assign it to a variable called "
   ]
  },
  {
   "cell_type": "code",
   "execution_count": 9,
   "metadata": {
    "collapsed": false
   },
   "outputs": [
    {
     "name": "stdout",
     "output_type": "stream",
     "text": [
      "         Date  Total Equity  Domestic Equity  World Equity  Hybrid  \\\n",
      "0  2011-10-05         -4002          -4499.0           497 -1354.0   \n",
      "1  2011-10-12         -7397          -5842.0         -1555   512.0   \n",
      "2  2011-10-19         -3292          -3466.0           174  1399.0   \n",
      "3  2011-10-26         -3696          -2998.0          -698  2631.0   \n",
      "4  2011-12-07         -7956          -5761.0         -2196  1089.0   \n",
      "\n",
      "   Total Bond  Taxable Bond  Municipal Bond    Total  \n",
      "0       -5828       -6258.0             430 -11184.0  \n",
      "1        3954        3927.0              28  -2931.0  \n",
      "2        5652        5102.0             550   3759.0  \n",
      "3        4910        4070.0             841   3846.0  \n",
      "4        3523        2068.0            1456  -3343.0  \n"
     ]
    }
   ],
   "source": [
    "import pandas as pd\n",
    "url = \"https://raw.githubusercontent.com/datasets/investor-flow-of-funds-us/master/data/weekly.csv\"\n",
    "df = pd.read_csv(url)\n",
    "print(df.head())\n"
   ]
  },
  {
   "cell_type": "markdown",
   "metadata": {},
   "source": [
    "### Step 4.  What is the frequency of the dataset?"
   ]
  },
  {
   "cell_type": "code",
   "execution_count": 10,
   "metadata": {
    "collapsed": false
   },
   "outputs": [
    {
     "name": "stdout",
     "output_type": "stream",
     "text": [
      "The frequency of the dataset is: 7 days 00:00:00\n"
     ]
    }
   ],
   "source": [
    "df['Date'] = pd.to_datetime(df['Date'])\n",
    "frequency = df['Date'].diff().mode()[0]\n",
    "\n",
    "\n",
    "print(f\"The frequency of the dataset is: {frequency}\")"
   ]
  },
  {
   "cell_type": "markdown",
   "metadata": {},
   "source": [
    "### Step 5. Set the column Date as the index."
   ]
  },
  {
   "cell_type": "code",
   "execution_count": 11,
   "metadata": {
    "collapsed": false
   },
   "outputs": [
    {
     "name": "stdout",
     "output_type": "stream",
     "text": [
      "            Total Equity  Domestic Equity  World Equity  Hybrid  Total Bond  \\\n",
      "Date                                                                          \n",
      "2011-10-05         -4002          -4499.0           497 -1354.0       -5828   \n",
      "2011-10-12         -7397          -5842.0         -1555   512.0        3954   \n",
      "2011-10-19         -3292          -3466.0           174  1399.0        5652   \n",
      "2011-10-26         -3696          -2998.0          -698  2631.0        4910   \n",
      "2011-12-07         -7956          -5761.0         -2196  1089.0        3523   \n",
      "\n",
      "            Taxable Bond  Municipal Bond    Total  \n",
      "Date                                               \n",
      "2011-10-05       -6258.0             430 -11184.0  \n",
      "2011-10-12        3927.0              28  -2931.0  \n",
      "2011-10-19        5102.0             550   3759.0  \n",
      "2011-10-26        4070.0             841   3846.0  \n",
      "2011-12-07        2068.0            1456  -3343.0  \n"
     ]
    }
   ],
   "source": [
    "df.set_index('Date', inplace=True)\n",
    "\n",
    "print(df.head())"
   ]
  },
  {
   "cell_type": "markdown",
   "metadata": {},
   "source": [
    "### Step 6. What is the type of the index?"
   ]
  },
  {
   "cell_type": "code",
   "execution_count": 12,
   "metadata": {
    "collapsed": false
   },
   "outputs": [
    {
     "data": {
      "text/html": [
       "<div>\n",
       "<style scoped>\n",
       "    .dataframe tbody tr th:only-of-type {\n",
       "        vertical-align: middle;\n",
       "    }\n",
       "\n",
       "    .dataframe tbody tr th {\n",
       "        vertical-align: top;\n",
       "    }\n",
       "\n",
       "    .dataframe thead th {\n",
       "        text-align: right;\n",
       "    }\n",
       "</style>\n",
       "<table border=\"1\" class=\"dataframe\">\n",
       "  <thead>\n",
       "    <tr style=\"text-align: right;\">\n",
       "      <th></th>\n",
       "      <th>Total Equity</th>\n",
       "      <th>Domestic Equity</th>\n",
       "      <th>World Equity</th>\n",
       "      <th>Hybrid</th>\n",
       "      <th>Total Bond</th>\n",
       "      <th>Taxable Bond</th>\n",
       "      <th>Municipal Bond</th>\n",
       "      <th>Total</th>\n",
       "    </tr>\n",
       "    <tr>\n",
       "      <th>Date</th>\n",
       "      <th></th>\n",
       "      <th></th>\n",
       "      <th></th>\n",
       "      <th></th>\n",
       "      <th></th>\n",
       "      <th></th>\n",
       "      <th></th>\n",
       "      <th></th>\n",
       "    </tr>\n",
       "  </thead>\n",
       "  <tbody>\n",
       "    <tr>\n",
       "      <th>2011-10-05</th>\n",
       "      <td>-4002</td>\n",
       "      <td>-4499.0</td>\n",
       "      <td>497</td>\n",
       "      <td>-1354.0</td>\n",
       "      <td>-5828</td>\n",
       "      <td>-6258.0</td>\n",
       "      <td>430</td>\n",
       "      <td>-11184.0</td>\n",
       "    </tr>\n",
       "    <tr>\n",
       "      <th>2011-10-12</th>\n",
       "      <td>-7397</td>\n",
       "      <td>-5842.0</td>\n",
       "      <td>-1555</td>\n",
       "      <td>512.0</td>\n",
       "      <td>3954</td>\n",
       "      <td>3927.0</td>\n",
       "      <td>28</td>\n",
       "      <td>-2931.0</td>\n",
       "    </tr>\n",
       "    <tr>\n",
       "      <th>2011-10-19</th>\n",
       "      <td>-3292</td>\n",
       "      <td>-3466.0</td>\n",
       "      <td>174</td>\n",
       "      <td>1399.0</td>\n",
       "      <td>5652</td>\n",
       "      <td>5102.0</td>\n",
       "      <td>550</td>\n",
       "      <td>3759.0</td>\n",
       "    </tr>\n",
       "    <tr>\n",
       "      <th>2011-10-26</th>\n",
       "      <td>-3696</td>\n",
       "      <td>-2998.0</td>\n",
       "      <td>-698</td>\n",
       "      <td>2631.0</td>\n",
       "      <td>4910</td>\n",
       "      <td>4070.0</td>\n",
       "      <td>841</td>\n",
       "      <td>3846.0</td>\n",
       "    </tr>\n",
       "    <tr>\n",
       "      <th>2011-12-07</th>\n",
       "      <td>-7956</td>\n",
       "      <td>-5761.0</td>\n",
       "      <td>-2196</td>\n",
       "      <td>1089.0</td>\n",
       "      <td>3523</td>\n",
       "      <td>2068.0</td>\n",
       "      <td>1456</td>\n",
       "      <td>-3343.0</td>\n",
       "    </tr>\n",
       "    <tr>\n",
       "      <th>...</th>\n",
       "      <td>...</td>\n",
       "      <td>...</td>\n",
       "      <td>...</td>\n",
       "      <td>...</td>\n",
       "      <td>...</td>\n",
       "      <td>...</td>\n",
       "      <td>...</td>\n",
       "      <td>...</td>\n",
       "    </tr>\n",
       "    <tr>\n",
       "      <th>2024-11-06</th>\n",
       "      <td>27957</td>\n",
       "      <td>NaN</td>\n",
       "      <td>20850</td>\n",
       "      <td>NaN</td>\n",
       "      <td>20318</td>\n",
       "      <td>NaN</td>\n",
       "      <td>532</td>\n",
       "      <td>NaN</td>\n",
       "    </tr>\n",
       "    <tr>\n",
       "      <th>2024-11-13</th>\n",
       "      <td>61535</td>\n",
       "      <td>NaN</td>\n",
       "      <td>54433</td>\n",
       "      <td>NaN</td>\n",
       "      <td>52686</td>\n",
       "      <td>NaN</td>\n",
       "      <td>1747</td>\n",
       "      <td>NaN</td>\n",
       "    </tr>\n",
       "    <tr>\n",
       "      <th>2024-11-20</th>\n",
       "      <td>30331</td>\n",
       "      <td>NaN</td>\n",
       "      <td>21694</td>\n",
       "      <td>NaN</td>\n",
       "      <td>21633</td>\n",
       "      <td>NaN</td>\n",
       "      <td>61</td>\n",
       "      <td>NaN</td>\n",
       "    </tr>\n",
       "    <tr>\n",
       "      <th>2024-11-26</th>\n",
       "      <td>37433</td>\n",
       "      <td>NaN</td>\n",
       "      <td>29994</td>\n",
       "      <td>NaN</td>\n",
       "      <td>29614</td>\n",
       "      <td>NaN</td>\n",
       "      <td>380</td>\n",
       "      <td>NaN</td>\n",
       "    </tr>\n",
       "    <tr>\n",
       "      <th>2024-12-04</th>\n",
       "      <td>27067</td>\n",
       "      <td>NaN</td>\n",
       "      <td>21969</td>\n",
       "      <td>NaN</td>\n",
       "      <td>22465</td>\n",
       "      <td>NaN</td>\n",
       "      <td>-496</td>\n",
       "      <td>NaN</td>\n",
       "    </tr>\n",
       "  </tbody>\n",
       "</table>\n",
       "<p>159 rows × 8 columns</p>\n",
       "</div>"
      ],
      "text/plain": [
       "            Total Equity  Domestic Equity  World Equity  Hybrid  Total Bond  \\\n",
       "Date                                                                          \n",
       "2011-10-05         -4002          -4499.0           497 -1354.0       -5828   \n",
       "2011-10-12         -7397          -5842.0         -1555   512.0        3954   \n",
       "2011-10-19         -3292          -3466.0           174  1399.0        5652   \n",
       "2011-10-26         -3696          -2998.0          -698  2631.0        4910   \n",
       "2011-12-07         -7956          -5761.0         -2196  1089.0        3523   \n",
       "...                  ...              ...           ...     ...         ...   \n",
       "2024-11-06         27957              NaN         20850     NaN       20318   \n",
       "2024-11-13         61535              NaN         54433     NaN       52686   \n",
       "2024-11-20         30331              NaN         21694     NaN       21633   \n",
       "2024-11-26         37433              NaN         29994     NaN       29614   \n",
       "2024-12-04         27067              NaN         21969     NaN       22465   \n",
       "\n",
       "            Taxable Bond  Municipal Bond    Total  \n",
       "Date                                               \n",
       "2011-10-05       -6258.0             430 -11184.0  \n",
       "2011-10-12        3927.0              28  -2931.0  \n",
       "2011-10-19        5102.0             550   3759.0  \n",
       "2011-10-26        4070.0             841   3846.0  \n",
       "2011-12-07        2068.0            1456  -3343.0  \n",
       "...                  ...             ...      ...  \n",
       "2024-11-06           NaN             532      NaN  \n",
       "2024-11-13           NaN            1747      NaN  \n",
       "2024-11-20           NaN              61      NaN  \n",
       "2024-11-26           NaN             380      NaN  \n",
       "2024-12-04           NaN            -496      NaN  \n",
       "\n",
       "[159 rows x 8 columns]"
      ]
     },
     "execution_count": 12,
     "metadata": {},
     "output_type": "execute_result"
    }
   ],
   "source": [
    "index_type = type(df.index)\n",
    "df"
   ]
  },
  {
   "cell_type": "markdown",
   "metadata": {},
   "source": [
    "### Step 7. Set the index to a DatetimeIndex type"
   ]
  },
  {
   "cell_type": "code",
   "execution_count": 16,
   "metadata": {
    "collapsed": false
   },
   "outputs": [
    {
     "name": "stdout",
     "output_type": "stream",
     "text": [
      "Index(['Total Equity', 'Domestic Equity', 'World Equity', 'Hybrid',\n",
      "       'Total Bond', 'Taxable Bond', 'Municipal Bond', 'Total'],\n",
      "      dtype='object')\n"
     ]
    }
   ],
   "source": [
    "\n",
    "\n",
    "print(df.columns)\n",
    "\n",
    "\n",
    "df['Date'] = pd.to_datetime(df['Hybrid'])  \n",
    "\n",
    "\n"
   ]
  },
  {
   "cell_type": "markdown",
   "metadata": {},
   "source": [
    "### Step 8.  Change the frequency to monthly, sum the values and assign it to monthly."
   ]
  },
  {
   "cell_type": "code",
   "execution_count": 19,
   "metadata": {
    "collapsed": false
   },
   "outputs": [
    {
     "name": "stdout",
     "output_type": "stream",
     "text": [
      "            Total Equity  Domestic Equity  World Equity  Hybrid  Total Bond  \\\n",
      "Date                                                                          \n",
      "2011-10-31        -18387         -16805.0         -1582  3188.0        8688   \n",
      "2011-11-30             0              0.0             0     0.0           0   \n",
      "2011-12-31        -23657         -16659.0         -6999  2395.0       13817   \n",
      "2012-01-31             0              0.0             0     0.0           0   \n",
      "2012-02-29             0              0.0             0     0.0           0   \n",
      "\n",
      "            Taxable Bond  Municipal Bond   Total  \n",
      "Date                                              \n",
      "2011-10-31        6841.0            1849 -6510.0  \n",
      "2011-11-30           0.0               0     0.0  \n",
      "2011-12-31        9335.0            4483 -7443.0  \n",
      "2012-01-31           0.0               0     0.0  \n",
      "2012-02-29           0.0               0     0.0  \n"
     ]
    },
    {
     "name": "stderr",
     "output_type": "stream",
     "text": [
      "C:\\Users\\DELL\\AppData\\Local\\Temp\\ipykernel_18424\\1092414330.py:1: FutureWarning: 'M' is deprecated and will be removed in a future version, please use 'ME' instead.\n",
      "  monthly = df.resample('M').sum(numeric_only=True)\n"
     ]
    }
   ],
   "source": [
    "monthly = df.resample('M').sum(numeric_only=True)\n",
    "\n",
    "print(monthly.head())\n",
    "\n",
    "\n"
   ]
  },
  {
   "cell_type": "markdown",
   "metadata": {},
   "source": [
    "### Step 9. You will notice that it filled the dataFrame with months that don't have any data with NaN. Let's drop these rows."
   ]
  },
  {
   "cell_type": "code",
   "execution_count": 20,
   "metadata": {
    "collapsed": false
   },
   "outputs": [
    {
     "name": "stdout",
     "output_type": "stream",
     "text": [
      "            Total Equity  Domestic Equity  World Equity  Hybrid  Total Bond  \\\n",
      "Date                                                                          \n",
      "2011-10-31        -18387         -16805.0         -1582  3188.0        8688   \n",
      "2011-11-30             0              0.0             0     0.0           0   \n",
      "2011-12-31        -23657         -16659.0         -6999  2395.0       13817   \n",
      "2012-01-31             0              0.0             0     0.0           0   \n",
      "2012-02-29             0              0.0             0     0.0           0   \n",
      "\n",
      "            Taxable Bond  Municipal Bond   Total  \n",
      "Date                                              \n",
      "2011-10-31        6841.0            1849 -6510.0  \n",
      "2011-11-30           0.0               0     0.0  \n",
      "2011-12-31        9335.0            4483 -7443.0  \n",
      "2012-01-31           0.0               0     0.0  \n",
      "2012-02-29           0.0               0     0.0  \n"
     ]
    }
   ],
   "source": [
    "monthly_clean = monthly.dropna()\n",
    "\n",
    "\n",
    "print(monthly_clean.head())"
   ]
  },
  {
   "cell_type": "markdown",
   "metadata": {},
   "source": [
    "### Step 10. Good, now we have the monthly data. Now change the frequency to year."
   ]
  },
  {
   "cell_type": "code",
   "execution_count": 21,
   "metadata": {
    "collapsed": false
   },
   "outputs": [
    {
     "name": "stdout",
     "output_type": "stream",
     "text": [
      "            Total Equity  Domestic Equity  World Equity   Hybrid  Total Bond  \\\n",
      "Date                                                                           \n",
      "2011-12-31        -42044         -33464.0         -8581   5583.0       22505   \n",
      "2012-12-31        -23929         -22012.0         -1915    785.0        9828   \n",
      "2013-12-31          8052          -5562.0         13615   4180.0      -24460   \n",
      "2014-12-31        -17011         -15124.0         -1887  -6141.0      -14400   \n",
      "2015-12-31        -36337         -25116.0        -11221 -12474.0      -28678   \n",
      "\n",
      "            Taxable Bond  Municipal Bond    Total  \n",
      "Date                                               \n",
      "2011-12-31       16176.0            6332 -13953.0  \n",
      "2012-12-31       12491.0           -2663 -13316.0  \n",
      "2013-12-31      -14209.0          -10251 -12227.0  \n",
      "2014-12-31      -19014.0            4614 -37552.0  \n",
      "2015-12-31      -34571.0            5893 -77489.0  \n"
     ]
    },
    {
     "name": "stderr",
     "output_type": "stream",
     "text": [
      "C:\\Users\\DELL\\AppData\\Local\\Temp\\ipykernel_18424\\4258383600.py:1: FutureWarning: 'A' is deprecated and will be removed in a future version, please use 'YE' instead.\n",
      "  yearly = monthly_clean.resample('A').sum(numeric_only=True)\n"
     ]
    }
   ],
   "source": [
    "yearly = monthly_clean.resample('A').sum(numeric_only=True)\n",
    "\n",
    "print(yearly.head())"
   ]
  },
  {
   "cell_type": "markdown",
   "metadata": {},
   "source": [
    "### BONUS: Create your own question and answer it."
   ]
  },
  {
   "cell_type": "code",
   "execution_count": null,
   "metadata": {
    "collapsed": true
   },
   "outputs": [],
   "source": []
  }
 ],
 "metadata": {
  "kernelspec": {
   "display_name": "base",
   "language": "python",
   "name": "python3"
  },
  "language_info": {
   "codemirror_mode": {
    "name": "ipython",
    "version": 3
   },
   "file_extension": ".py",
   "mimetype": "text/x-python",
   "name": "python",
   "nbconvert_exporter": "python",
   "pygments_lexer": "ipython3",
   "version": "3.11.5"
  }
 },
 "nbformat": 4,
 "nbformat_minor": 0
}
